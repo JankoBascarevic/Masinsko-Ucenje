{
  "nbformat": 4,
  "nbformat_minor": 0,
  "metadata": {
    "colab": {
      "provenance": [],
      "authorship_tag": "ABX9TyOGqlDeQWJiKGTHKZ4CgWpk",
      "include_colab_link": true
    },
    "kernelspec": {
      "name": "python3",
      "display_name": "Python 3"
    },
    "language_info": {
      "name": "python"
    }
  },
  "cells": [
    {
      "cell_type": "markdown",
      "metadata": {
        "id": "view-in-github",
        "colab_type": "text"
      },
      "source": [
        "<a href=\"https://colab.research.google.com/github/JankoBascarevic/Masinsko-Ucenje/blob/main/NeuronskaMrezaTorch.ipynb\" target=\"_parent\"><img src=\"https://colab.research.google.com/assets/colab-badge.svg\" alt=\"Open In Colab\"/></a>"
      ]
    },
    {
      "cell_type": "code",
      "execution_count": null,
      "metadata": {
        "id": "Bik8VW3m_2t3"
      },
      "outputs": [],
      "source": [
        "import numpy as np\n",
        "import pandas as pd\n",
        "from matplotlib import pyplot as plt"
      ]
    },
    {
      "cell_type": "code",
      "source": [
        "data = pd.read_csv(\"./sample_data/mnist_train_small.csv\")"
      ],
      "metadata": {
        "id": "UycfEAEEAFnj"
      },
      "execution_count": null,
      "outputs": []
    },
    {
      "cell_type": "code",
      "source": [
        "from sklearn.model_selection import train_test_split\n",
        "data = data.rename(columns={\"6\": \"label\"})\n",
        "data.head()\n",
        "print(data.shape)\n",
        "\n",
        "train, test = train_test_split(data, test_size=0.2)"
      ],
      "metadata": {
        "colab": {
          "base_uri": "https://localhost:8080/"
        },
        "id": "8jM_1ZmXAGsa",
        "outputId": "70e05da3-5dfa-449a-cb72-dc48eb4aae86"
      },
      "execution_count": null,
      "outputs": [
        {
          "output_type": "stream",
          "name": "stdout",
          "text": [
            "(19999, 785)\n"
          ]
        }
      ]
    },
    {
      "cell_type": "code",
      "source": [
        "train.hist(column='label')\n",
        "test.hist(column=\"label\")"
      ],
      "metadata": {
        "colab": {
          "base_uri": "https://localhost:8080/",
          "height": 904
        },
        "id": "XXEu8Qc6AJEe",
        "outputId": "83c3d63f-ef56-459e-91fd-fe495f87d993"
      },
      "execution_count": null,
      "outputs": [
        {
          "output_type": "execute_result",
          "data": {
            "text/plain": [
              "array([[<Axes: title={'center': 'label'}>]], dtype=object)"
            ]
          },
          "metadata": {},
          "execution_count": 34
        },
        {
          "output_type": "display_data",
          "data": {
            "text/plain": [
              "<Figure size 640x480 with 1 Axes>"
            ],
            "image/png": "[encoded data removed]"
          },
          "metadata": {}
        },
        {
          "output_type": "display_data",
          "data": {
            "text/plain": [
              "<Figure size 640x480 with 1 Axes>"
            ],
            "image/png": "[encoded data removed]"
          },
          "metadata": {}
        }
      ]
    },
    {
      "cell_type": "code",
      "source": [
        "train = np.array(train)\n",
        "test = np.array(test)\n",
        "\n",
        "train = train.T"
      ],
      "metadata": {
        "id": "a4pTkpY2AJlm"
      },
      "execution_count": null,
      "outputs": []
    },
    {
      "cell_type": "code",
      "source": [
        "y_train = train[0]\n",
        "X_train = train[1:]\n",
        "print(X_train.shape)\n",
        "m = X_train.shape[1]\n",
        "X_train = X_train / 255\n",
        "print(y_train)"
      ],
      "metadata": {
        "colab": {
          "base_uri": "https://localhost:8080/"
        },
        "id": "aduJp9FqALOU",
        "outputId": "fc543544-67e6-4072-fdda-7ea6fdff71aa"
      },
      "execution_count": null,
      "outputs": [
        {
          "output_type": "stream",
          "name": "stdout",
          "text": [
            "(784, 15999)\n",
            "[1 6 8 ... 3 5 4]\n"
          ]
        }
      ]
    },
    {
      "cell_type": "code",
      "source": [
        "import torch\n",
        "import torch.nn as nn\n",
        "import torch.nn.functional as F\n",
        "\n",
        "class Model(nn.Module):\n",
        "    def __init__(self):\n",
        "        super().__init__()\n",
        "        self.net = nn.Sequential(\n",
        "            nn.Linear(784, 100),\n",
        "            nn.ReLU(),\n",
        "            nn.Linear(100, 10),\n",
        "            nn.Softmax()\n",
        "        )\n",
        "\n",
        "    def forward(self, x):\n",
        "        return self.net(x)\n",
        "\n",
        "    def predict(self, x):\n",
        "        out = self.forward(x)\n",
        "        out = torch.argmax(out, dim=1)\n",
        "        return out"
      ],
      "metadata": {
        "id": "XXFROXgEANFY"
      },
      "execution_count": null,
      "outputs": []
    },
    {
      "cell_type": "code",
      "source": [
        "import torch.nn.functional as F\n",
        "def fit(X, y, model, epoch, loss_fn, opt):\n",
        "    ohy = F.one_hot(y.to(torch.int64), 10).float()\n",
        "    for i in range(epoch):\n",
        "        loss = loss_fn(model.forward(X), ohy)\n",
        "        loss.backward()\n",
        "        opt.step()\n",
        "        opt.zero_grad()\n",
        "        # log performanse modela\n",
        "        out = model.predict(X)\n",
        "        print(out)\n",
        "        print(y)\n",
        "        acc = accuracy(out, y)\n",
        "        print(\"Accuracy: \", acc)\n",
        "\n",
        "def accuracy(pred, actual):\n",
        "    s = torch.sum(pred == actual)\n",
        "    return s.item() / len(actual)"
      ],
      "metadata": {
        "id": "EeasoFnfAPcK"
      },
      "execution_count": null,
      "outputs": []
    },
    {
      "cell_type": "code",
      "source": [
        "import torch.optim as optim\n",
        "import torch.nn.functional as F\n",
        "import torch\n",
        "model = Model()\n",
        "epochs = 100\n",
        "lr = 1e-3\n",
        "opt = optim.Adam(model.parameters(), lr=lr)\n",
        "loss = F.cross_entropy\n",
        "\n",
        "X = torch.from_numpy(X_train.T).float()\n",
        "y = torch.from_numpy(y_train).long()\n",
        "fit(X, y, model, epochs, loss, opt)"
      ],
      "metadata": {
        "colab": {
          "base_uri": "https://localhost:8080/"
        },
        "id": "dtVALPaRARLP",
        "outputId": "a07b9afa-559d-419b-bd28-7349ded55049"
      },
      "execution_count": null,
      "outputs": [
        {
          "output_type": "stream",
          "name": "stderr",
          "text": [
            "/usr/local/lib/python3.10/dist-packages/torch/nn/modules/module.py:1511: UserWarning: Implicit dimension choice for softmax has been deprecated. Change the call to include dim=X as an argument.\n",
            "  return self._call_impl(*args, **kwargs)\n"
          ]
        },
        {
          "output_type": "stream",
          "name": "stdout",
          "text": [
            "tensor([9, 9, 9,  ..., 9, 0, 9])\n",
            "tensor([1, 6, 8,  ..., 3, 5, 4])\n",
            "Accuracy:  0.26589161822613916\n",
            "tensor([1, 0, 9,  ..., 3, 0, 9])\n",
            "tensor([1, 6, 8,  ..., 3, 5, 4])\n",
            "Accuracy:  0.40240015000937557\n",
            "tensor([1, 0, 8,  ..., 3, 0, 9])\n",
            "tensor([1, 6, 8,  ..., 3, 5, 4])\n",
            "Accuracy:  0.5209075567222952\n",
            "tensor([1, 0, 8,  ..., 3, 3, 9])\n",
            "tensor([1, 6, 8,  ..., 3, 5, 4])\n",
            "Accuracy:  0.5795362210138134\n",
            "tensor([1, 0, 8,  ..., 3, 3, 3])\n",
            "tensor([1, 6, 8,  ..., 3, 5, 4])\n",
            "Accuracy:  0.6103506469154322\n",
            "tensor([1, 0, 8,  ..., 3, 3, 9])\n",
            "tensor([1, 6, 8,  ..., 3, 5, 4])\n",
            "Accuracy:  0.6331645727857991\n",
            "tensor([1, 0, 8,  ..., 3, 3, 9])\n",
            "tensor([1, 6, 8,  ..., 3, 5, 4])\n",
            "Accuracy:  0.6467904244015251\n",
            "tensor([1, 0, 8,  ..., 3, 3, 9])\n",
            "tensor([1, 6, 8,  ..., 3, 5, 4])\n",
            "Accuracy:  0.6546034127132946\n",
            "tensor([1, 0, 8,  ..., 3, 3, 9])\n",
            "tensor([1, 6, 8,  ..., 3, 5, 4])\n",
            "Accuracy:  0.6577911119444966\n",
            "tensor([1, 0, 8,  ..., 3, 3, 6])\n",
            "tensor([1, 6, 8,  ..., 3, 5, 4])\n",
            "Accuracy:  0.6600412525782862\n",
            "tensor([1, 0, 8,  ..., 3, 3, 6])\n",
            "tensor([1, 6, 8,  ..., 3, 5, 4])\n",
            "Accuracy:  0.6594787174198388\n",
            "tensor([1, 0, 8,  ..., 3, 3, 6])\n",
            "tensor([1, 6, 8,  ..., 3, 5, 4])\n",
            "Accuracy:  0.6574785924120258\n",
            "tensor([1, 0, 8,  ..., 3, 3, 6])\n",
            "tensor([1, 6, 8,  ..., 3, 5, 4])\n",
            "Accuracy:  0.655165947871742\n",
            "tensor([1, 0, 8,  ..., 3, 3, 6])\n",
            "tensor([1, 6, 8,  ..., 3, 5, 4])\n",
            "Accuracy:  0.6532283267704232\n",
            "tensor([1, 0, 8,  ..., 3, 3, 6])\n",
            "tensor([1, 6, 8,  ..., 3, 5, 4])\n",
            "Accuracy:  0.6526657916119758\n",
            "tensor([1, 0, 8,  ..., 3, 3, 6])\n",
            "tensor([1, 6, 8,  ..., 3, 5, 4])\n",
            "Accuracy:  0.654353397087318\n",
            "tensor([1, 0, 8,  ..., 3, 3, 6])\n",
            "tensor([1, 6, 8,  ..., 3, 5, 4])\n",
            "Accuracy:  0.6560410025626602\n",
            "tensor([1, 0, 8,  ..., 3, 3, 6])\n",
            "tensor([1, 6, 8,  ..., 3, 5, 4])\n",
            "Accuracy:  0.6574785924120258\n",
            "tensor([1, 0, 8,  ..., 3, 3, 6])\n",
            "tensor([1, 6, 8,  ..., 3, 5, 4])\n",
            "Accuracy:  0.6626039127445466\n",
            "tensor([1, 0, 8,  ..., 3, 3, 6])\n",
            "tensor([1, 6, 8,  ..., 3, 5, 4])\n",
            "Accuracy:  0.6667916744796549\n",
            "tensor([1, 0, 8,  ..., 3, 6, 6])\n",
            "tensor([1, 6, 8,  ..., 3, 5, 4])\n",
            "Accuracy:  0.671604475279705\n",
            "tensor([1, 6, 8,  ..., 3, 6, 6])\n",
            "tensor([1, 6, 8,  ..., 3, 5, 4])\n",
            "Accuracy:  0.6765422838927433\n",
            "tensor([1, 6, 8,  ..., 3, 6, 6])\n",
            "tensor([1, 6, 8,  ..., 3, 5, 4])\n",
            "Accuracy:  0.6819176198512407\n",
            "tensor([1, 6, 8,  ..., 3, 6, 6])\n",
            "tensor([1, 6, 8,  ..., 3, 5, 4])\n",
            "Accuracy:  0.6849178073629602\n",
            "tensor([1, 6, 8,  ..., 3, 6, 6])\n",
            "tensor([1, 6, 8,  ..., 3, 5, 4])\n",
            "Accuracy:  0.6895430964435277\n",
            "tensor([1, 6, 8,  ..., 3, 6, 6])\n",
            "tensor([1, 6, 8,  ..., 3, 5, 4])\n",
            "Accuracy:  0.6916057253578348\n",
            "tensor([1, 6, 8,  ..., 3, 6, 6])\n",
            "tensor([1, 6, 8,  ..., 3, 5, 4])\n",
            "Accuracy:  0.6927932995812238\n",
            "tensor([1, 6, 8,  ..., 3, 6, 6])\n",
            "tensor([1, 6, 8,  ..., 3, 5, 4])\n",
            "Accuracy:  0.6951059441215076\n",
            "tensor([1, 6, 8,  ..., 3, 6, 6])\n",
            "tensor([1, 6, 8,  ..., 3, 5, 4])\n",
            "Accuracy:  0.6976061003812738\n",
            "tensor([1, 6, 8,  ..., 3, 6, 6])\n",
            "tensor([1, 6, 8,  ..., 3, 5, 4])\n",
            "Accuracy:  0.7015438464904057\n",
            "tensor([1, 6, 8,  ..., 3, 6, 6])\n",
            "tensor([1, 6, 8,  ..., 3, 5, 4])\n",
            "Accuracy:  0.7062941433839615\n",
            "tensor([1, 6, 8,  ..., 3, 6, 6])\n",
            "tensor([1, 6, 8,  ..., 3, 5, 4])\n",
            "Accuracy:  0.7139196199762485\n",
            "tensor([1, 6, 8,  ..., 3, 6, 6])\n",
            "tensor([1, 6, 8,  ..., 3, 5, 4])\n",
            "Accuracy:  0.7252953309581849\n",
            "tensor([1, 6, 8,  ..., 3, 6, 4])\n",
            "tensor([1, 6, 8,  ..., 3, 5, 4])\n",
            "Accuracy:  0.7384836552284518\n",
            "tensor([1, 6, 8,  ..., 3, 6, 4])\n",
            "tensor([1, 6, 8,  ..., 3, 5, 4])\n",
            "Accuracy:  0.752172010750672\n",
            "tensor([1, 6, 8,  ..., 3, 6, 4])\n",
            "tensor([1, 6, 8,  ..., 3, 5, 4])\n",
            "Accuracy:  0.7624851553222076\n",
            "tensor([1, 6, 8,  ..., 3, 6, 4])\n",
            "tensor([1, 6, 8,  ..., 3, 5, 4])\n",
            "Accuracy:  0.7706731670729421\n",
            "tensor([1, 6, 8,  ..., 3, 6, 4])\n",
            "tensor([1, 6, 8,  ..., 3, 5, 4])\n",
            "Accuracy:  0.7771110694418402\n",
            "tensor([1, 6, 8,  ..., 3, 6, 4])\n",
            "tensor([1, 6, 8,  ..., 3, 5, 4])\n",
            "Accuracy:  0.7807362960185011\n",
            "tensor([1, 6, 8,  ..., 3, 6, 4])\n",
            "tensor([1, 6, 8,  ..., 3, 5, 4])\n",
            "Accuracy:  0.785486592912057\n",
            "tensor([1, 6, 8,  ..., 3, 6, 4])\n",
            "tensor([1, 6, 8,  ..., 3, 5, 4])\n",
            "Accuracy:  0.7886742921432589\n",
            "tensor([1, 6, 8,  ..., 3, 6, 4])\n",
            "tensor([1, 6, 8,  ..., 3, 5, 4])\n",
            "Accuracy:  0.7941121320082505\n",
            "tensor([1, 6, 8,  ..., 3, 6, 4])\n",
            "tensor([1, 6, 8,  ..., 3, 5, 4])\n",
            "Accuracy:  0.7989249328083006\n",
            "tensor([1, 6, 8,  ..., 3, 6, 4])\n",
            "tensor([1, 6, 8,  ..., 3, 5, 4])\n",
            "Accuracy:  0.8036127257953622\n",
            "tensor([1, 6, 8,  ..., 3, 6, 4])\n",
            "tensor([1, 6, 8,  ..., 3, 5, 4])\n",
            "Accuracy:  0.8098006125382836\n",
            "tensor([1, 6, 8,  ..., 3, 6, 4])\n",
            "tensor([1, 6, 8,  ..., 3, 5, 4])\n",
            "Accuracy:  0.8152384524032752\n",
            "tensor([1, 6, 8,  ..., 3, 6, 4])\n",
            "tensor([1, 6, 8,  ..., 3, 5, 4])\n",
            "Accuracy:  0.8217388586786675\n",
            "tensor([1, 6, 8,  ..., 3, 6, 4])\n",
            "tensor([1, 6, 8,  ..., 3, 5, 4])\n",
            "Accuracy:  0.8271766985436589\n",
            "tensor([1, 6, 8,  ..., 3, 6, 4])\n",
            "tensor([1, 6, 8,  ..., 3, 5, 4])\n",
            "Accuracy:  0.8325520345021564\n",
            "tensor([1, 6, 8,  ..., 3, 6, 4])\n",
            "tensor([1, 6, 8,  ..., 3, 5, 4])\n",
            "Accuracy:  0.8374273392087005\n"
          ]
        }
      ]
    }
  ]
}