{
  "nbformat": 4,
  "nbformat_minor": 0,
  "metadata": {
    "colab": {
      "provenance": [],
      "authorship_tag": "ABX9TyPhAKE7vFgH4RojekXVMqUm",
      "include_colab_link": true
    },
    "kernelspec": {
      "name": "python3",
      "display_name": "Python 3"
    },
    "language_info": {
      "name": "python"
    }
  },
  "cells": [
    {
      "cell_type": "markdown",
      "metadata": {
        "id": "view-in-github",
        "colab_type": "text"
      },
      "source": [
        "<a href=\"https://colab.research.google.com/github/JankoBascarevic/Masinsko-Ucenje/blob/main/Neuronska_mreza.ipynb\" target=\"_parent\"><img src=\"https://colab.research.google.com/assets/colab-badge.svg\" alt=\"Open In Colab\"/></a>"
      ]
    },
    {
      "cell_type": "code",
      "execution_count": 12,
      "metadata": {
        "id": "gwxjUOBRaesw"
      },
      "outputs": [],
      "source": [
        "import numpy as np\n",
        "import pandas as pd\n",
        "from matplotlib import pyplot as plt"
      ]
    },
    {
      "cell_type": "code",
      "source": [
        "data = pd.read_csv(\"./sample_data/mnist_train_small.csv\")"
      ],
      "metadata": {
        "id": "yZn5QFIvlRwU"
      },
      "execution_count": 13,
      "outputs": []
    },
    {
      "cell_type": "code",
      "source": [
        "from sklearn.model_selection import train_test_split\n",
        "data = data.rename(columns={\"6\": \"label\"})\n",
        "data.head()\n",
        "print(data.shape)\n",
        "\n",
        "train, test = train_test_split(data, test_size=0.2)"
      ],
      "metadata": {
        "colab": {
          "base_uri": "https://localhost:8080/"
        },
        "id": "k_d20KzelTsG",
        "outputId": "4d1f45d1-5eef-43b4-8e44-56e97f7ffda4"
      },
      "execution_count": 14,
      "outputs": [
        {
          "output_type": "stream",
          "name": "stdout",
          "text": [
            "(19999, 785)\n"
          ]
        }
      ]
    },
    {
      "cell_type": "code",
      "source": [
        "train.hist(column='label')\n",
        "test.hist(column=\"label\")"
      ],
      "metadata": {
        "colab": {
          "base_uri": "https://localhost:8080/",
          "height": 904
        },
        "id": "SE8CK2WhlU89",
        "outputId": "66ae365d-b5b8-415a-a138-14a58fd4823b"
      },
      "execution_count": 15,
      "outputs": [
        {
          "output_type": "execute_result",
          "data": {
            "text/plain": [
              "array([[<Axes: title={'center': 'label'}>]], dtype=object)"
            ]
          },
          "metadata": {},
          "execution_count": 15
        },
        {
          "output_type": "display_data",
          "data": {
            "text/plain": [
              "<Figure size 640x480 with 1 Axes>"
            ],
            "image/png": "[encoded data removed]"
          },
          "metadata": {}
        },
        {
          "output_type": "display_data",
          "data": {
            "text/plain": [
              "<Figure size 640x480 with 1 Axes>"
            ],
            "image/png": "[encoded data removed]"
          },
          "metadata": {}
        }
      ]
    },
    {
      "cell_type": "code",
      "source": [
        "train = np.array(train)\n",
        "test = np.array(test)\n",
        "\n",
        "train = train.T"
      ],
      "metadata": {
        "id": "x8G4TdoglWGf"
      },
      "execution_count": 16,
      "outputs": []
    },
    {
      "cell_type": "code",
      "source": [
        "y_train = train[0]\n",
        "X_train = train[1:]\n",
        "print(X_train.shape)\n",
        "m = X_train.shape[1]\n",
        "X_train = X_train / 255\n",
        "print(y_train)"
      ],
      "metadata": {
        "colab": {
          "base_uri": "https://localhost:8080/"
        },
        "id": "CYnP7rJKlXzp",
        "outputId": "acf460da-8139-4fa6-df5a-fd1863bd940e"
      },
      "execution_count": 17,
      "outputs": [
        {
          "output_type": "stream",
          "name": "stdout",
          "text": [
            "(784, 15999)\n",
            "[6 9 2 ... 2 9 5]\n"
          ]
        }
      ]
    },
    {
      "cell_type": "code",
      "source": [
        "def init_params():\n",
        "    W1 = np.random.rand(10, 784) - 0.5\n",
        "    b1 = np.random.rand(10, 1) - 0.5\n",
        "    W2 = np.random.rand(10, 10) - 0.5\n",
        "    b2 = np.random.rand(10, 1) - 0.5\n",
        "    return W1, b1, W2, b2\n",
        "\n",
        "def ReLU(Z):\n",
        "    return np.maximum(Z, 0)\n",
        "\n",
        "def softmax(Z):\n",
        "    A = np.exp(Z) / sum(np.exp(Z))\n",
        "    return A\n",
        "\n",
        "def forward_prop(W1, b1, W2, b2, X):\n",
        "    Z1 = W1.dot(X) + b1\n",
        "    A1 = ReLU(Z1)\n",
        "    Z2 = W2.dot(A1) + b2\n",
        "    A2 = softmax(Z2)\n",
        "    return Z1, A1, Z2, A2\n",
        "\n",
        "def ReLU_deriv(Z):\n",
        "    return Z > 0\n",
        "\n",
        "def one_hot(Y):\n",
        "    one_hot_Y = np.zeros((Y.size, Y.max() + 1))\n",
        "    one_hot_Y[np.arange(Y.size), Y] = 1\n",
        "    one_hot_Y = one_hot_Y.T\n",
        "    return one_hot_Y\n",
        "\n",
        "def backward_prop(Z1, A1, Z2, A2, W1, W2, X, Y):\n",
        "    one_hot_Y = one_hot(Y)\n",
        "    dZ2 = A2 - one_hot_Y\n",
        "    dW2 = 1 / m * dZ2.dot(A1.T)\n",
        "    db2 = 1 / m * np.sum(dZ2)\n",
        "    dZ1 = W2.T.dot(dZ2) * ReLU_deriv(Z1)\n",
        "    dW1 = 1 / m * dZ1.dot(X.T)\n",
        "    db1 = 1 / m * np.sum(dZ1)\n",
        "    return dW1, db1, dW2, db2\n",
        "\n",
        "def update_params(W1, b1, W2, b2, dW1, db1, dW2, db2, alpha):\n",
        "    W1 = W1 - alpha * dW1\n",
        "    b1 = b1 - alpha * db1\n",
        "    W2 = W2 - alpha * dW2\n",
        "    b2 = b2 - alpha * db2\n",
        "    return W1, b1, W2, b2\n",
        "\n",
        "def get_predictions(A2):\n",
        "    return np.argmax(A2, 0)\n",
        "\n",
        "def get_accuracy(predictions, Y):\n",
        "    print(predictions, Y)\n",
        "    return np.sum(predictions == Y) / Y.size\n",
        "\n",
        "def gradient_descent(X, Y, alpha, iterations):\n",
        "    W1, b1, W2, b2 = init_params()\n",
        "    for i in range(iterations):\n",
        "        Z1, A1, Z2, A2 = forward_prop(W1, b1, W2, b2, X)\n",
        "        dW1, db1, dW2, db2 = backward_prop(Z1, A1, Z2, A2, W1, W2, X, Y)\n",
        "        W1, b1, W2, b2 = update_params(W1, b1, W2, b2, dW1, db1, dW2, db2, alpha)\n",
        "        if i % 10 == 0:\n",
        "            print(\"Iteration: \", i)\n",
        "            predictions = get_predictions(A2)\n",
        "            print(get_accuracy(predictions, Y))\n",
        "    return W1, b1, W2, b2"
      ],
      "metadata": {
        "id": "GzLjKc5fla3W"
      },
      "execution_count": 18,
      "outputs": []
    },
    {
      "cell_type": "code",
      "source": [
        "W1, b1, W2, b2 = gradient_descent(X_train, y_train, 0.001, 100)"
      ],
      "metadata": {
        "colab": {
          "base_uri": "https://localhost:8080/"
        },
        "id": "RbLgLXG7lbUu",
        "outputId": "b9f47b11-2266-41e4-9df9-d2f930dbed85"
      },
      "execution_count": 19,
      "outputs": [
        {
          "output_type": "stream",
          "name": "stdout",
          "text": [
            "Iteration:  0\n",
            "[1 8 3 ... 7 3 3] [6 9 2 ... 2 9 5]\n",
            "0.08088005500343771\n",
            "Iteration:  10\n",
            "[1 8 3 ... 7 3 3] [6 9 2 ... 2 9 5]\n",
            "0.0807550471904494\n",
            "Iteration:  20\n",
            "[1 8 3 ... 7 3 3] [6 9 2 ... 2 9 5]\n",
            "0.07937996124757797\n",
            "Iteration:  30\n",
            "[1 8 3 ... 7 3 3] [6 9 2 ... 2 9 5]\n",
            "0.07944246515407213\n",
            "Iteration:  40\n",
            "[1 8 3 ... 7 3 3] [6 9 2 ... 2 9 5]\n",
            "0.07881742608913057\n",
            "Iteration:  50\n",
            "[1 8 3 ... 7 3 3] [6 9 2 ... 2 9 5]\n",
            "0.07881742608913057\n",
            "Iteration:  60\n",
            "[1 8 3 ... 7 3 3] [6 9 2 ... 2 9 5]\n",
            "0.07850490655665979\n",
            "Iteration:  70\n",
            "[1 8 3 ... 7 3 3] [6 9 2 ... 2 9 5]\n",
            "0.07837989874367148\n",
            "Iteration:  80\n",
            "[1 8 3 ... 7 3 3] [6 9 2 ... 2 9 5]\n",
            "0.07825489093068316\n",
            "Iteration:  90\n",
            "[1 8 3 ... 7 3 3] [6 9 2 ... 2 9 5]\n",
            "0.0790674417151072\n"
          ]
        }
      ]
    },
    {
      "cell_type": "code",
      "source": [
        "import torch.nn.functional as F\n",
        "def fit(X, y, model, epoch, loss_fn, opt):\n",
        "    ohy = F.one_hot(y.to(torch.int64), 10).float()\n",
        "    for i in range(epoch):\n",
        "        loss = loss_fn(model.forward(X), ohy)\n",
        "        loss.backward()\n",
        "        opt.step()\n",
        "        opt.zero_grad()\n",
        "        # log performanse modela\n",
        "        out = model.predict(X)\n",
        "        print(out)\n",
        "        print(y)\n",
        "        acc = accuracy(out, y)\n",
        "        print(\"Accuracy: \", acc)\n",
        "\n",
        "def accuracy(pred, actual):\n",
        "    s = torch.sum(pred == actual)\n",
        "    return s.item() / len(actual)"
      ],
      "metadata": {
        "id": "BABjjNTmleaZ"
      },
      "execution_count": 20,
      "outputs": []
    },
    {
      "cell_type": "code",
      "source": [
        "import torch.optim as optim\n",
        "import torch.nn.functional as F\n",
        "import torch\n",
        "model = Model()\n",
        "epochs = 100\n",
        "lr = 1e-3\n",
        "opt = optim.Adam(model.parameters(), lr=lr)\n",
        "loss = F.cross_entropy\n",
        "\n",
        "X = torch.from_numpy(X_train.T).float()\n",
        "y = torch.from_numpy(y_train).long()\n",
        "fit(X, y, model, epochs, loss, opt)"
      ],
      "metadata": {
        "colab": {
          "base_uri": "https://localhost:8080/"
        },
        "id": "9xKmWKSflfiv",
        "outputId": "76f4d7dd-76cf-4c1d-b7de-e09a7f72b07d"
      },
      "execution_count": 21,
      "outputs": [
        {
          "output_type": "stream",
          "name": "stderr",
          "text": [
            "/usr/local/lib/python3.10/dist-packages/torch/nn/modules/module.py:1511: UserWarning: Implicit dimension choice for softmax has been deprecated. Change the call to include dim=X as an argument.\n",
            "  return self._call_impl(*args, **kwargs)\n"
          ]
        },
        {
          "output_type": "stream",
          "name": "stdout",
          "text": [
            "tensor([6, 0, 3,  ..., 8, 4, 8])\n",
            "tensor([6, 9, 2,  ..., 2, 9, 5])\n",
            "Accuracy:  0.29395587224201514\n",
            "tensor([6, 0, 8,  ..., 8, 4, 8])\n",
            "tensor([6, 9, 2,  ..., 2, 9, 5])\n",
            "Accuracy:  0.4739046190386899\n",
            "tensor([6, 0, 8,  ..., 0, 4, 8])\n",
            "tensor([6, 9, 2,  ..., 2, 9, 5])\n",
            "Accuracy:  0.5763485217826114\n",
            "tensor([6, 0, 2,  ..., 2, 4, 8])\n",
            "tensor([6, 9, 2,  ..., 2, 9, 5])\n",
            "Accuracy:  0.6244140258766173\n",
            "tensor([6, 0, 2,  ..., 2, 3, 8])\n",
            "tensor([6, 9, 2,  ..., 2, 9, 5])\n",
            "Accuracy:  0.649978123632727\n",
            "tensor([6, 0, 2,  ..., 2, 3, 8])\n",
            "tensor([6, 9, 2,  ..., 2, 9, 5])\n",
            "Accuracy:  0.6651040690043127\n",
            "tensor([6, 0, 2,  ..., 2, 4, 8])\n",
            "tensor([6, 9, 2,  ..., 2, 9, 5])\n",
            "Accuracy:  0.6709794362147634\n",
            "tensor([6, 0, 2,  ..., 2, 4, 8])\n",
            "tensor([6, 9, 2,  ..., 2, 9, 5])\n",
            "Accuracy:  0.6736671041940121\n",
            "tensor([6, 0, 2,  ..., 2, 4, 8])\n",
            "tensor([6, 9, 2,  ..., 2, 9, 5])\n",
            "Accuracy:  0.6689793112069504\n",
            "tensor([6, 0, 2,  ..., 2, 3, 8])\n",
            "tensor([6, 9, 2,  ..., 2, 9, 5])\n",
            "Accuracy:  0.6632914557159822\n",
            "tensor([6, 0, 2,  ..., 2, 3, 8])\n",
            "tensor([6, 9, 2,  ..., 2, 9, 5])\n",
            "Accuracy:  0.6527282955184699\n",
            "tensor([6, 0, 2,  ..., 2, 3, 8])\n",
            "tensor([6, 9, 2,  ..., 2, 9, 5])\n",
            "Accuracy:  0.6449153072067004\n",
            "tensor([6, 0, 2,  ..., 2, 3, 8])\n",
            "tensor([6, 9, 2,  ..., 2, 9, 5])\n",
            "Accuracy:  0.6359772485780362\n",
            "tensor([6, 0, 2,  ..., 2, 3, 8])\n",
            "tensor([6, 9, 2,  ..., 2, 9, 5])\n",
            "Accuracy:  0.629101818863679\n",
            "tensor([6, 0, 2,  ..., 2, 3, 8])\n",
            "tensor([6, 9, 2,  ..., 2, 9, 5])\n",
            "Accuracy:  0.6256016001000062\n",
            "tensor([6, 0, 2,  ..., 2, 3, 8])\n",
            "tensor([6, 9, 2,  ..., 2, 9, 5])\n",
            "Accuracy:  0.6239764985311582\n",
            "tensor([6, 0, 2,  ..., 2, 3, 8])\n",
            "tensor([6, 9, 2,  ..., 2, 9, 5])\n",
            "Accuracy:  0.6252890805675355\n",
            "tensor([6, 0, 2,  ..., 2, 3, 8])\n",
            "tensor([6, 9, 2,  ..., 2, 9, 5])\n",
            "Accuracy:  0.6281642602662666\n",
            "tensor([6, 0, 2,  ..., 2, 3, 8])\n",
            "tensor([6, 9, 2,  ..., 2, 9, 5])\n",
            "Accuracy:  0.6330395649728108\n",
            "tensor([6, 0, 2,  ..., 2, 3, 8])\n",
            "tensor([6, 9, 2,  ..., 2, 9, 5])\n",
            "Accuracy:  0.641165072817051\n",
            "tensor([6, 0, 2,  ..., 2, 3, 8])\n",
            "tensor([6, 9, 2,  ..., 2, 9, 5])\n",
            "Accuracy:  0.6511031939496219\n",
            "tensor([6, 0, 2,  ..., 2, 3, 8])\n",
            "tensor([6, 9, 2,  ..., 2, 9, 5])\n",
            "Accuracy:  0.6618538658666167\n",
            "tensor([6, 0, 2,  ..., 2, 4, 8])\n",
            "tensor([6, 9, 2,  ..., 2, 9, 5])\n",
            "Accuracy:  0.67122945184074\n",
            "tensor([6, 0, 2,  ..., 2, 4, 8])\n",
            "tensor([6, 9, 2,  ..., 2, 9, 5])\n",
            "Accuracy:  0.6808550534408401\n",
            "tensor([6, 0, 2,  ..., 2, 4, 8])\n",
            "tensor([6, 9, 2,  ..., 2, 9, 5])\n",
            "Accuracy:  0.6892930808175511\n",
            "tensor([6, 0, 2,  ..., 2, 4, 8])\n",
            "tensor([6, 9, 2,  ..., 2, 9, 5])\n",
            "Accuracy:  0.6957934870929433\n",
            "tensor([6, 0, 2,  ..., 2, 4, 8])\n",
            "tensor([6, 9, 2,  ..., 2, 9, 5])\n",
            "Accuracy:  0.7017313582098881\n",
            "tensor([6, 0, 2,  ..., 2, 4, 8])\n",
            "tensor([6, 9, 2,  ..., 2, 9, 5])\n",
            "Accuracy:  0.7053565847865492\n",
            "tensor([6, 0, 2,  ..., 2, 4, 8])\n",
            "tensor([6, 9, 2,  ..., 2, 9, 5])\n",
            "Accuracy:  0.7073567097943622\n",
            "tensor([6, 0, 2,  ..., 2, 4, 8])\n",
            "tensor([6, 9, 2,  ..., 2, 9, 5])\n",
            "Accuracy:  0.7091068191761986\n",
            "tensor([6, 0, 2,  ..., 2, 4, 8])\n",
            "tensor([6, 9, 2,  ..., 2, 9, 5])\n",
            "Accuracy:  0.7097943621476343\n",
            "tensor([6, 0, 2,  ..., 2, 4, 8])\n",
            "tensor([6, 9, 2,  ..., 2, 9, 5])\n",
            "Accuracy:  0.7121695105944121\n",
            "tensor([6, 0, 2,  ..., 2, 4, 8])\n",
            "tensor([6, 9, 2,  ..., 2, 9, 5])\n",
            "Accuracy:  0.7144196512282017\n",
            "tensor([6, 0, 2,  ..., 2, 4, 8])\n",
            "tensor([6, 9, 2,  ..., 2, 9, 5])\n",
            "Accuracy:  0.7152947059191199\n",
            "tensor([6, 0, 2,  ..., 2, 4, 8])\n",
            "tensor([6, 9, 2,  ..., 2, 9, 5])\n",
            "Accuracy:  0.7166697918619914\n",
            "tensor([6, 0, 2,  ..., 2, 4, 8])\n",
            "tensor([6, 9, 2,  ..., 2, 9, 5])\n",
            "Accuracy:  0.7186074129633102\n",
            "tensor([6, 0, 2,  ..., 2, 4, 8])\n",
            "tensor([6, 9, 2,  ..., 2, 9, 5])\n",
            "Accuracy:  0.7206700418776173\n",
            "tensor([6, 0, 2,  ..., 2, 4, 8])\n",
            "tensor([6, 9, 2,  ..., 2, 9, 5])\n",
            "Accuracy:  0.7248578036127258\n",
            "tensor([6, 0, 2,  ..., 2, 9, 8])\n",
            "tensor([6, 9, 2,  ..., 2, 9, 5])\n",
            "Accuracy:  0.7347959247452965\n",
            "tensor([6, 0, 2,  ..., 2, 9, 8])\n",
            "tensor([6, 9, 2,  ..., 2, 9, 5])\n",
            "Accuracy:  0.7527970498156135\n",
            "tensor([6, 0, 2,  ..., 2, 9, 8])\n",
            "tensor([6, 9, 2,  ..., 2, 9, 5])\n",
            "Accuracy:  0.7694230889430589\n",
            "tensor([6, 0, 2,  ..., 2, 9, 8])\n",
            "tensor([6, 9, 2,  ..., 2, 9, 5])\n",
            "Accuracy:  0.7847365460341271\n",
            "tensor([6, 0, 2,  ..., 2, 9, 8])\n",
            "tensor([6, 9, 2,  ..., 2, 9, 5])\n",
            "Accuracy:  0.7937996124757797\n",
            "tensor([6, 0, 2,  ..., 2, 9, 8])\n",
            "tensor([6, 9, 2,  ..., 2, 9, 5])\n",
            "Accuracy:  0.794299643727733\n",
            "tensor([6, 0, 2,  ..., 2, 9, 8])\n",
            "tensor([6, 9, 2,  ..., 2, 9, 5])\n",
            "Accuracy:  0.7940496281017564\n",
            "tensor([6, 0, 4,  ..., 2, 9, 8])\n",
            "tensor([6, 9, 2,  ..., 2, 9, 5])\n",
            "Accuracy:  0.7949871866991687\n",
            "tensor([6, 0, 4,  ..., 2, 9, 8])\n",
            "tensor([6, 9, 2,  ..., 2, 9, 5])\n",
            "Accuracy:  0.7972998312394525\n",
            "tensor([6, 0, 4,  ..., 2, 9, 8])\n",
            "tensor([6, 9, 2,  ..., 2, 9, 5])\n",
            "Accuracy:  0.7997374835927246\n",
            "tensor([6, 0, 4,  ..., 2, 9, 8])\n",
            "tensor([6, 9, 2,  ..., 2, 9, 5])\n",
            "Accuracy:  0.8039877492343271\n",
            "tensor([6, 0, 4,  ..., 2, 9, 8])\n",
            "tensor([6, 9, 2,  ..., 2, 9, 5])\n",
            "Accuracy:  0.8051753234577161\n",
            "tensor([6, 0, 4,  ..., 2, 9, 8])\n",
            "tensor([6, 9, 2,  ..., 2, 9, 5])\n",
            "Accuracy:  0.8073004562785174\n",
            "tensor([6, 0, 4,  ..., 2, 9, 8])\n",
            "tensor([6, 9, 2,  ..., 2, 9, 5])\n",
            "Accuracy:  0.8081755109694356\n",
            "tensor([6, 0, 4,  ..., 2, 9, 8])\n",
            "tensor([6, 9, 2,  ..., 2, 9, 5])\n",
            "Accuracy:  0.809550596912307\n",
            "tensor([6, 0, 4,  ..., 2, 9, 8])\n",
            "tensor([6, 9, 2,  ..., 2, 9, 5])\n",
            "Accuracy:  0.8106131633227077\n",
            "tensor([6, 0, 4,  ..., 2, 9, 8])\n",
            "tensor([6, 9, 2,  ..., 2, 9, 5])\n",
            "Accuracy:  0.8125507844240265\n",
            "tensor([6, 0, 4,  ..., 2, 9, 8])\n",
            "tensor([6, 9, 2,  ..., 2, 9, 5])\n",
            "Accuracy:  0.8148634289643103\n",
            "tensor([6, 0, 4,  ..., 2, 9, 8])\n",
            "tensor([6, 9, 2,  ..., 2, 9, 5])\n",
            "Accuracy:  0.8174260891305707\n",
            "tensor([6, 0, 4,  ..., 2, 9, 8])\n",
            "tensor([6, 9, 2,  ..., 2, 9, 5])\n",
            "Accuracy:  0.82117632352022\n",
            "tensor([6, 0, 4,  ..., 2, 9, 8])\n",
            "tensor([6, 9, 2,  ..., 2, 9, 5])\n",
            "Accuracy:  0.8278642415150947\n",
            "tensor([6, 0, 4,  ..., 2, 9, 5])\n",
            "tensor([6, 9, 2,  ..., 2, 9, 5])\n",
            "Accuracy:  0.8348646790424401\n",
            "tensor([6, 0, 4,  ..., 2, 9, 5])\n",
            "tensor([6, 9, 2,  ..., 2, 9, 5])\n",
            "Accuracy:  0.8416776048503032\n",
            "tensor([6, 0, 4,  ..., 2, 9, 5])\n",
            "tensor([6, 9, 2,  ..., 2, 9, 5])\n",
            "Accuracy:  0.8504906556659791\n",
            "tensor([6, 0, 4,  ..., 2, 9, 5])\n",
            "tensor([6, 9, 2,  ..., 2, 9, 5])\n",
            "Accuracy:  0.8579286205387837\n",
            "tensor([6, 7, 4,  ..., 2, 9, 5])\n",
            "tensor([6, 9, 2,  ..., 2, 9, 5])\n",
            "Accuracy:  0.8618038627414213\n",
            "tensor([6, 7, 4,  ..., 2, 9, 5])\n",
            "tensor([6, 9, 2,  ..., 2, 9, 5])\n",
            "Accuracy:  0.866866679167448\n",
            "tensor([6, 7, 4,  ..., 2, 9, 5])\n",
            "tensor([6, 9, 2,  ..., 2, 9, 5])\n",
            "Accuracy:  0.8695543471466967\n",
            "tensor([6, 7, 4,  ..., 2, 9, 5])\n",
            "tensor([6, 9, 2,  ..., 2, 9, 5])\n",
            "Accuracy:  0.8719919994999688\n",
            "tensor([6, 7, 4,  ..., 2, 9, 5])\n",
            "tensor([6, 9, 2,  ..., 2, 9, 5])\n",
            "Accuracy:  0.8731170698168635\n",
            "tensor([6, 7, 4,  ..., 2, 9, 5])\n",
            "tensor([6, 9, 2,  ..., 2, 9, 5])\n",
            "Accuracy:  0.8734920932558284\n",
            "tensor([6, 7, 4,  ..., 2, 9, 5])\n",
            "tensor([6, 9, 2,  ..., 2, 9, 5])\n",
            "Accuracy:  0.8748046752922057\n",
            "tensor([6, 7, 4,  ..., 2, 9, 5])\n",
            "tensor([6, 9, 2,  ..., 2, 9, 5])\n",
            "Accuracy:  0.8751796987311707\n",
            "tensor([6, 7, 4,  ..., 2, 9, 5])\n",
            "tensor([6, 9, 2,  ..., 2, 9, 5])\n",
            "Accuracy:  0.8754297143571473\n",
            "tensor([6, 7, 2,  ..., 2, 9, 5])\n",
            "tensor([6, 9, 2,  ..., 2, 9, 5])\n",
            "Accuracy:  0.8768048003000187\n",
            "tensor([6, 7, 2,  ..., 2, 9, 5])\n",
            "tensor([6, 9, 2,  ..., 2, 9, 5])\n",
            "Accuracy:  0.8776798549909369\n",
            "tensor([6, 7, 2,  ..., 2, 9, 5])\n",
            "tensor([6, 9, 2,  ..., 2, 9, 5])\n",
            "Accuracy:  0.8802425151571973\n",
            "tensor([6, 7, 4,  ..., 2, 9, 5])\n",
            "tensor([6, 9, 2,  ..., 2, 9, 5])\n",
            "Accuracy:  0.8823051440715045\n",
            "tensor([6, 7, 4,  ..., 2, 9, 5])\n",
            "tensor([6, 9, 2,  ..., 2, 9, 5])\n",
            "Accuracy:  0.8839927495468467\n",
            "tensor([6, 7, 4,  ..., 2, 9, 5])\n",
            "tensor([6, 9, 2,  ..., 2, 9, 5])\n",
            "Accuracy:  0.8863053940871305\n",
            "tensor([6, 7, 4,  ..., 2, 9, 5])\n",
            "tensor([6, 9, 2,  ..., 2, 9, 5])\n",
            "Accuracy:  0.88930558159885\n",
            "tensor([6, 7, 4,  ..., 2, 9, 5])\n",
            "tensor([6, 9, 2,  ..., 2, 9, 5])\n",
            "Accuracy:  0.8914307144196513\n",
            "tensor([6, 7, 4,  ..., 2, 9, 5])\n",
            "tensor([6, 9, 2,  ..., 2, 9, 5])\n",
            "Accuracy:  0.8933683355209701\n",
            "tensor([6, 7, 2,  ..., 2, 9, 5])\n",
            "tensor([6, 9, 2,  ..., 2, 9, 5])\n",
            "Accuracy:  0.8951184449028065\n",
            "tensor([6, 7, 2,  ..., 2, 9, 5])\n",
            "tensor([6, 9, 2,  ..., 2, 9, 5])\n",
            "Accuracy:  0.8968685542846427\n",
            "tensor([6, 7, 2,  ..., 2, 9, 5])\n",
            "tensor([6, 9, 2,  ..., 2, 9, 5])\n",
            "Accuracy:  0.8966185386586661\n",
            "tensor([6, 7, 2,  ..., 2, 9, 5])\n",
            "tensor([6, 9, 2,  ..., 2, 9, 5])\n",
            "Accuracy:  0.8970560660041252\n",
            "tensor([6, 7, 2,  ..., 2, 9, 5])\n",
            "tensor([6, 9, 2,  ..., 2, 9, 5])\n",
            "Accuracy:  0.8967435464716544\n",
            "tensor([6, 7, 2,  ..., 2, 9, 5])\n",
            "tensor([6, 9, 2,  ..., 2, 9, 5])\n",
            "Accuracy:  0.8970560660041252\n",
            "tensor([6, 7, 2,  ..., 2, 9, 5])\n",
            "tensor([6, 9, 2,  ..., 2, 9, 5])\n",
            "Accuracy:  0.8973060816301018\n",
            "tensor([6, 7, 2,  ..., 2, 9, 5])\n",
            "tensor([6, 9, 2,  ..., 2, 9, 5])\n",
            "Accuracy:  0.8978686167885492\n",
            "tensor([6, 7, 2,  ..., 2, 9, 5])\n",
            "tensor([6, 9, 2,  ..., 2, 9, 5])\n",
            "Accuracy:  0.8990561910119382\n",
            "tensor([6, 7, 2,  ..., 2, 9, 5])\n",
            "tensor([6, 9, 2,  ..., 2, 9, 5])\n",
            "Accuracy:  0.8998062378898681\n",
            "tensor([6, 7, 2,  ..., 2, 9, 5])\n",
            "tensor([6, 9, 2,  ..., 2, 9, 5])\n",
            "Accuracy:  0.9011188199262454\n",
            "tensor([6, 7, 2,  ..., 2, 9, 5])\n",
            "tensor([6, 9, 2,  ..., 2, 9, 5])\n",
            "Accuracy:  0.9015563472717045\n",
            "tensor([6, 7, 2,  ..., 2, 9, 5])\n",
            "tensor([6, 9, 2,  ..., 2, 9, 5])\n",
            "Accuracy:  0.9023063941496343\n",
            "tensor([6, 7, 2,  ..., 2, 9, 5])\n",
            "tensor([6, 9, 2,  ..., 2, 9, 5])\n",
            "Accuracy:  0.9033064566535408\n",
            "tensor([6, 7, 2,  ..., 2, 9, 5])\n",
            "tensor([6, 9, 2,  ..., 2, 9, 5])\n",
            "Accuracy:  0.9038064879054941\n",
            "tensor([6, 7, 2,  ..., 2, 9, 5])\n",
            "tensor([6, 9, 2,  ..., 2, 9, 5])\n",
            "Accuracy:  0.9042440152509532\n",
            "tensor([6, 7, 2,  ..., 2, 9, 5])\n",
            "tensor([6, 9, 2,  ..., 2, 9, 5])\n",
            "Accuracy:  0.9046815425964123\n",
            "tensor([6, 7, 2,  ..., 2, 9, 5])\n",
            "tensor([6, 9, 2,  ..., 2, 9, 5])\n",
            "Accuracy:  0.9050565660353772\n",
            "tensor([6, 7, 2,  ..., 2, 9, 5])\n",
            "tensor([6, 9, 2,  ..., 2, 9, 5])\n",
            "Accuracy:  0.9053065816613538\n"
          ]
        }
      ]
    }
  ]
}